{
  "nbformat": 4,
  "nbformat_minor": 0,
  "metadata": {
    "kernelspec": {
      "display_name": "Python 3",
      "language": "python",
      "name": "python3"
    },
    "language_info": {
      "codemirror_mode": {
        "name": "ipython",
        "version": 3
      },
      "file_extension": ".py",
      "mimetype": "text/x-python",
      "name": "python",
      "nbconvert_exporter": "python",
      "pygments_lexer": "ipython3",
      "version": "3.7.9"
    },
    "papermill": {
      "default_parameters": {},
      "duration": 15.542382,
      "end_time": "2021-02-02T08:12:41.881907",
      "environment_variables": {},
      "exception": null,
      "input_path": "__notebook__.ipynb",
      "output_path": "__notebook__.ipynb",
      "parameters": {},
      "start_time": "2021-02-02T08:12:26.339525",
      "version": "2.2.2"
    },
    "colab": {
      "name": "heart_condition _check.ipynb",
      "provenance": []
    }
  },
  "cells": [
    {
      "cell_type": "code",
      "metadata": {
        "execution": {
          "iopub.execute_input": "2021-02-02T08:12:33.144260Z",
          "iopub.status.busy": "2021-02-02T08:12:33.143657Z",
          "iopub.status.idle": "2021-02-02T08:12:34.253153Z",
          "shell.execute_reply": "2021-02-02T08:12:34.252240Z"
        },
        "papermill": {
          "duration": 1.13758,
          "end_time": "2021-02-02T08:12:34.253389",
          "exception": false,
          "start_time": "2021-02-02T08:12:33.115809",
          "status": "completed"
        },
        "tags": [],
        "id": "JgNcLr2xG7Oz"
      },
      "source": [
        "import pandas as pd\n",
        "import numpy as np\n",
        "import matplotlib.pyplot as plt\n",
        "import seaborn as sns\n"
      ],
      "execution_count": 53,
      "outputs": []
    },
    {
      "cell_type": "markdown",
      "metadata": {
        "id": "mj8Vy_ItkXZB"
      },
      "source": [
        "First we included the csv file of data giving the detials of pateints and history of hear related disease"
      ]
    },
    {
      "cell_type": "markdown",
      "metadata": {
        "id": "FNKoXASQkv3-"
      },
      "source": [
        "Given a name to the data file and started analysing the data "
      ]
    },
    {
      "cell_type": "code",
      "metadata": {
        "execution": {
          "iopub.execute_input": "2021-02-02T08:12:34.318221Z",
          "iopub.status.busy": "2021-02-02T08:12:34.317602Z",
          "iopub.status.idle": "2021-02-02T08:12:34.386078Z",
          "shell.execute_reply": "2021-02-02T08:12:34.385236Z"
        },
        "papermill": {
          "duration": 0.096677,
          "end_time": "2021-02-02T08:12:34.386249",
          "exception": false,
          "start_time": "2021-02-02T08:12:34.289572",
          "status": "completed"
        },
        "tags": [],
        "colab": {
          "base_uri": "https://localhost:8080/",
          "height": 419
        },
        "id": "Zxq1y0a_G7Oz",
        "outputId": "2445b347-32b8-4854-b69c-9388a718b621"
      },
      "source": [
        "df = pd.read_csv('/content/heart.csv')\n",
        "df"
      ],
      "execution_count": 54,
      "outputs": [
        {
          "output_type": "execute_result",
          "data": {
            "text/html": [
              "<div>\n",
              "<style scoped>\n",
              "    .dataframe tbody tr th:only-of-type {\n",
              "        vertical-align: middle;\n",
              "    }\n",
              "\n",
              "    .dataframe tbody tr th {\n",
              "        vertical-align: top;\n",
              "    }\n",
              "\n",
              "    .dataframe thead th {\n",
              "        text-align: right;\n",
              "    }\n",
              "</style>\n",
              "<table border=\"1\" class=\"dataframe\">\n",
              "  <thead>\n",
              "    <tr style=\"text-align: right;\">\n",
              "      <th></th>\n",
              "      <th>age</th>\n",
              "      <th>sex</th>\n",
              "      <th>cp</th>\n",
              "      <th>trestbps</th>\n",
              "      <th>chol</th>\n",
              "      <th>fbs</th>\n",
              "      <th>restecg</th>\n",
              "      <th>thalach</th>\n",
              "      <th>exang</th>\n",
              "      <th>oldpeak</th>\n",
              "      <th>slope</th>\n",
              "      <th>ca</th>\n",
              "      <th>thal</th>\n",
              "      <th>target</th>\n",
              "    </tr>\n",
              "  </thead>\n",
              "  <tbody>\n",
              "    <tr>\n",
              "      <th>0</th>\n",
              "      <td>63</td>\n",
              "      <td>1</td>\n",
              "      <td>3</td>\n",
              "      <td>145</td>\n",
              "      <td>233</td>\n",
              "      <td>1</td>\n",
              "      <td>0</td>\n",
              "      <td>150</td>\n",
              "      <td>0</td>\n",
              "      <td>2.3</td>\n",
              "      <td>0</td>\n",
              "      <td>0</td>\n",
              "      <td>1</td>\n",
              "      <td>1</td>\n",
              "    </tr>\n",
              "    <tr>\n",
              "      <th>1</th>\n",
              "      <td>37</td>\n",
              "      <td>1</td>\n",
              "      <td>2</td>\n",
              "      <td>130</td>\n",
              "      <td>250</td>\n",
              "      <td>0</td>\n",
              "      <td>1</td>\n",
              "      <td>187</td>\n",
              "      <td>0</td>\n",
              "      <td>3.5</td>\n",
              "      <td>0</td>\n",
              "      <td>0</td>\n",
              "      <td>2</td>\n",
              "      <td>1</td>\n",
              "    </tr>\n",
              "    <tr>\n",
              "      <th>2</th>\n",
              "      <td>41</td>\n",
              "      <td>0</td>\n",
              "      <td>1</td>\n",
              "      <td>130</td>\n",
              "      <td>204</td>\n",
              "      <td>0</td>\n",
              "      <td>0</td>\n",
              "      <td>172</td>\n",
              "      <td>0</td>\n",
              "      <td>1.4</td>\n",
              "      <td>2</td>\n",
              "      <td>0</td>\n",
              "      <td>2</td>\n",
              "      <td>1</td>\n",
              "    </tr>\n",
              "    <tr>\n",
              "      <th>3</th>\n",
              "      <td>56</td>\n",
              "      <td>1</td>\n",
              "      <td>1</td>\n",
              "      <td>120</td>\n",
              "      <td>236</td>\n",
              "      <td>0</td>\n",
              "      <td>1</td>\n",
              "      <td>178</td>\n",
              "      <td>0</td>\n",
              "      <td>0.8</td>\n",
              "      <td>2</td>\n",
              "      <td>0</td>\n",
              "      <td>2</td>\n",
              "      <td>1</td>\n",
              "    </tr>\n",
              "    <tr>\n",
              "      <th>4</th>\n",
              "      <td>57</td>\n",
              "      <td>0</td>\n",
              "      <td>0</td>\n",
              "      <td>120</td>\n",
              "      <td>354</td>\n",
              "      <td>0</td>\n",
              "      <td>1</td>\n",
              "      <td>163</td>\n",
              "      <td>1</td>\n",
              "      <td>0.6</td>\n",
              "      <td>2</td>\n",
              "      <td>0</td>\n",
              "      <td>2</td>\n",
              "      <td>1</td>\n",
              "    </tr>\n",
              "    <tr>\n",
              "      <th>...</th>\n",
              "      <td>...</td>\n",
              "      <td>...</td>\n",
              "      <td>...</td>\n",
              "      <td>...</td>\n",
              "      <td>...</td>\n",
              "      <td>...</td>\n",
              "      <td>...</td>\n",
              "      <td>...</td>\n",
              "      <td>...</td>\n",
              "      <td>...</td>\n",
              "      <td>...</td>\n",
              "      <td>...</td>\n",
              "      <td>...</td>\n",
              "      <td>...</td>\n",
              "    </tr>\n",
              "    <tr>\n",
              "      <th>298</th>\n",
              "      <td>57</td>\n",
              "      <td>0</td>\n",
              "      <td>0</td>\n",
              "      <td>140</td>\n",
              "      <td>241</td>\n",
              "      <td>0</td>\n",
              "      <td>1</td>\n",
              "      <td>123</td>\n",
              "      <td>1</td>\n",
              "      <td>0.2</td>\n",
              "      <td>1</td>\n",
              "      <td>0</td>\n",
              "      <td>3</td>\n",
              "      <td>0</td>\n",
              "    </tr>\n",
              "    <tr>\n",
              "      <th>299</th>\n",
              "      <td>45</td>\n",
              "      <td>1</td>\n",
              "      <td>3</td>\n",
              "      <td>110</td>\n",
              "      <td>264</td>\n",
              "      <td>0</td>\n",
              "      <td>1</td>\n",
              "      <td>132</td>\n",
              "      <td>0</td>\n",
              "      <td>1.2</td>\n",
              "      <td>1</td>\n",
              "      <td>0</td>\n",
              "      <td>3</td>\n",
              "      <td>0</td>\n",
              "    </tr>\n",
              "    <tr>\n",
              "      <th>300</th>\n",
              "      <td>68</td>\n",
              "      <td>1</td>\n",
              "      <td>0</td>\n",
              "      <td>144</td>\n",
              "      <td>193</td>\n",
              "      <td>1</td>\n",
              "      <td>1</td>\n",
              "      <td>141</td>\n",
              "      <td>0</td>\n",
              "      <td>3.4</td>\n",
              "      <td>1</td>\n",
              "      <td>2</td>\n",
              "      <td>3</td>\n",
              "      <td>0</td>\n",
              "    </tr>\n",
              "    <tr>\n",
              "      <th>301</th>\n",
              "      <td>57</td>\n",
              "      <td>1</td>\n",
              "      <td>0</td>\n",
              "      <td>130</td>\n",
              "      <td>131</td>\n",
              "      <td>0</td>\n",
              "      <td>1</td>\n",
              "      <td>115</td>\n",
              "      <td>1</td>\n",
              "      <td>1.2</td>\n",
              "      <td>1</td>\n",
              "      <td>1</td>\n",
              "      <td>3</td>\n",
              "      <td>0</td>\n",
              "    </tr>\n",
              "    <tr>\n",
              "      <th>302</th>\n",
              "      <td>57</td>\n",
              "      <td>0</td>\n",
              "      <td>1</td>\n",
              "      <td>130</td>\n",
              "      <td>236</td>\n",
              "      <td>0</td>\n",
              "      <td>0</td>\n",
              "      <td>174</td>\n",
              "      <td>0</td>\n",
              "      <td>0.0</td>\n",
              "      <td>1</td>\n",
              "      <td>1</td>\n",
              "      <td>2</td>\n",
              "      <td>0</td>\n",
              "    </tr>\n",
              "  </tbody>\n",
              "</table>\n",
              "<p>303 rows × 14 columns</p>\n",
              "</div>"
            ],
            "text/plain": [
              "    age  sex cp  trestbps  chol  fbs  ...  exang  oldpeak  slope  ca  thal  target\n",
              "0    63    1  3       145   233    1  ...      0      2.3      0   0     1       1\n",
              "1    37    1  2       130   250    0  ...      0      3.5      0   0     2       1\n",
              "2    41    0  1       130   204    0  ...      0      1.4      2   0     2       1\n",
              "3    56    1  1       120   236    0  ...      0      0.8      2   0     2       1\n",
              "4    57    0  0       120   354    0  ...      1      0.6      2   0     2       1\n",
              "..   ..  ... ..       ...   ...  ...  ...    ...      ...    ...  ..   ...     ...\n",
              "298  57    0  0       140   241    0  ...      1      0.2      1   0     3       0\n",
              "299  45    1  3       110   264    0  ...      0      1.2      1   0     3       0\n",
              "300  68    1  0       144   193    1  ...      0      3.4      1   2     3       0\n",
              "301  57    1  0       130   131    0  ...      1      1.2      1   1     3       0\n",
              "302  57    0  1       130   236    0  ...      0      0.0      1   1     2       0\n",
              "\n",
              "[303 rows x 14 columns]"
            ]
          },
          "metadata": {
            "tags": []
          },
          "execution_count": 54
        }
      ]
    },
    {
      "cell_type": "markdown",
      "metadata": {
        "id": "bDOd9pjHk7IY"
      },
      "source": [
        "Here in the data \n",
        "cp is for chest pain value given a range  of 0-3\n",
        "The following attributes  are\n",
        "\n",
        "\n",
        "\n",
        "\n",
        "\n",
        "\n",
        "\n",
        "*   trestbps : resting blood pressure\n",
        "*   chol : serum cholestoral\n",
        "*   fbs : fasting blood sugar\n",
        "*   restecg : resting electrocardiographic results\n",
        "*   thalach : maximum heart rate achieved \n",
        "*   exang : exercise induced angina\n",
        "*   oldpeak : ST depression induced by exercise relative to rest\n",
        "*   slope : slope of peak exercise ST segment\n",
        "*   ca : number of major vessel colored flouroscopy\n",
        "\n",
        "*   thal : 3 values 0,1,2 0=normal; 1=fixed defect; 2=reversable defect;\n",
        "*   target: has mtwo values 0 and 1 where 0=less chance of heart attack 1=more chance of heart attack\n",
        "\n",
        "\n",
        "\n",
        "\n",
        "\n",
        "\n",
        "\n",
        "\n",
        "\n",
        "\n",
        "\n",
        "\n",
        "\n",
        "\n",
        "\n"
      ]
    },
    {
      "cell_type": "code",
      "metadata": {
        "execution": {
          "iopub.execute_input": "2021-02-02T08:12:34.477887Z",
          "iopub.status.busy": "2021-02-02T08:12:34.476815Z",
          "iopub.status.idle": "2021-02-02T08:12:34.483344Z",
          "shell.execute_reply": "2021-02-02T08:12:34.482668Z"
        },
        "papermill": {
          "duration": 0.059913,
          "end_time": "2021-02-02T08:12:34.483503",
          "exception": false,
          "start_time": "2021-02-02T08:12:34.423590",
          "status": "completed"
        },
        "tags": [],
        "colab": {
          "base_uri": "https://localhost:8080/",
          "height": 204
        },
        "id": "LBOGHv7pG7O0",
        "outputId": "d4734df0-2da6-4857-8c5c-409107ab04af"
      },
      "source": [
        "df.head()"
      ],
      "execution_count": 55,
      "outputs": [
        {
          "output_type": "execute_result",
          "data": {
            "text/html": [
              "<div>\n",
              "<style scoped>\n",
              "    .dataframe tbody tr th:only-of-type {\n",
              "        vertical-align: middle;\n",
              "    }\n",
              "\n",
              "    .dataframe tbody tr th {\n",
              "        vertical-align: top;\n",
              "    }\n",
              "\n",
              "    .dataframe thead th {\n",
              "        text-align: right;\n",
              "    }\n",
              "</style>\n",
              "<table border=\"1\" class=\"dataframe\">\n",
              "  <thead>\n",
              "    <tr style=\"text-align: right;\">\n",
              "      <th></th>\n",
              "      <th>age</th>\n",
              "      <th>sex</th>\n",
              "      <th>cp</th>\n",
              "      <th>trestbps</th>\n",
              "      <th>chol</th>\n",
              "      <th>fbs</th>\n",
              "      <th>restecg</th>\n",
              "      <th>thalach</th>\n",
              "      <th>exang</th>\n",
              "      <th>oldpeak</th>\n",
              "      <th>slope</th>\n",
              "      <th>ca</th>\n",
              "      <th>thal</th>\n",
              "      <th>target</th>\n",
              "    </tr>\n",
              "  </thead>\n",
              "  <tbody>\n",
              "    <tr>\n",
              "      <th>0</th>\n",
              "      <td>63</td>\n",
              "      <td>1</td>\n",
              "      <td>3</td>\n",
              "      <td>145</td>\n",
              "      <td>233</td>\n",
              "      <td>1</td>\n",
              "      <td>0</td>\n",
              "      <td>150</td>\n",
              "      <td>0</td>\n",
              "      <td>2.3</td>\n",
              "      <td>0</td>\n",
              "      <td>0</td>\n",
              "      <td>1</td>\n",
              "      <td>1</td>\n",
              "    </tr>\n",
              "    <tr>\n",
              "      <th>1</th>\n",
              "      <td>37</td>\n",
              "      <td>1</td>\n",
              "      <td>2</td>\n",
              "      <td>130</td>\n",
              "      <td>250</td>\n",
              "      <td>0</td>\n",
              "      <td>1</td>\n",
              "      <td>187</td>\n",
              "      <td>0</td>\n",
              "      <td>3.5</td>\n",
              "      <td>0</td>\n",
              "      <td>0</td>\n",
              "      <td>2</td>\n",
              "      <td>1</td>\n",
              "    </tr>\n",
              "    <tr>\n",
              "      <th>2</th>\n",
              "      <td>41</td>\n",
              "      <td>0</td>\n",
              "      <td>1</td>\n",
              "      <td>130</td>\n",
              "      <td>204</td>\n",
              "      <td>0</td>\n",
              "      <td>0</td>\n",
              "      <td>172</td>\n",
              "      <td>0</td>\n",
              "      <td>1.4</td>\n",
              "      <td>2</td>\n",
              "      <td>0</td>\n",
              "      <td>2</td>\n",
              "      <td>1</td>\n",
              "    </tr>\n",
              "    <tr>\n",
              "      <th>3</th>\n",
              "      <td>56</td>\n",
              "      <td>1</td>\n",
              "      <td>1</td>\n",
              "      <td>120</td>\n",
              "      <td>236</td>\n",
              "      <td>0</td>\n",
              "      <td>1</td>\n",
              "      <td>178</td>\n",
              "      <td>0</td>\n",
              "      <td>0.8</td>\n",
              "      <td>2</td>\n",
              "      <td>0</td>\n",
              "      <td>2</td>\n",
              "      <td>1</td>\n",
              "    </tr>\n",
              "    <tr>\n",
              "      <th>4</th>\n",
              "      <td>57</td>\n",
              "      <td>0</td>\n",
              "      <td>0</td>\n",
              "      <td>120</td>\n",
              "      <td>354</td>\n",
              "      <td>0</td>\n",
              "      <td>1</td>\n",
              "      <td>163</td>\n",
              "      <td>1</td>\n",
              "      <td>0.6</td>\n",
              "      <td>2</td>\n",
              "      <td>0</td>\n",
              "      <td>2</td>\n",
              "      <td>1</td>\n",
              "    </tr>\n",
              "  </tbody>\n",
              "</table>\n",
              "</div>"
            ],
            "text/plain": [
              "  age  sex cp  trestbps  chol  fbs  ...  exang  oldpeak  slope  ca  thal  target\n",
              "0  63    1  3       145   233    1  ...      0      2.3      0   0     1       1\n",
              "1  37    1  2       130   250    0  ...      0      3.5      0   0     2       1\n",
              "2  41    0  1       130   204    0  ...      0      1.4      2   0     2       1\n",
              "3  56    1  1       120   236    0  ...      0      0.8      2   0     2       1\n",
              "4  57    0  0       120   354    0  ...      1      0.6      2   0     2       1\n",
              "\n",
              "[5 rows x 14 columns]"
            ]
          },
          "metadata": {
            "tags": []
          },
          "execution_count": 55
        }
      ]
    },
    {
      "cell_type": "markdown",
      "metadata": {
        "id": "QyiGChZwdJSR"
      },
      "source": [
        "Checking for null values in the column age "
      ]
    },
    {
      "cell_type": "code",
      "metadata": {
        "colab": {
          "base_uri": "https://localhost:8080/"
        },
        "id": "o-aSgwmWgsMJ",
        "outputId": "cdfca2ef-3322-4afe-c031-d5430ae6e640"
      },
      "source": [
        "df['age'].isnull()"
      ],
      "execution_count": 56,
      "outputs": [
        {
          "output_type": "execute_result",
          "data": {
            "text/plain": [
              "0      False\n",
              "1      False\n",
              "2      False\n",
              "3      False\n",
              "4      False\n",
              "       ...  \n",
              "298    False\n",
              "299    False\n",
              "300    False\n",
              "301    False\n",
              "302    False\n",
              "Name: age, Length: 303, dtype: bool"
            ]
          },
          "metadata": {
            "tags": []
          },
          "execution_count": 56
        }
      ]
    },
    {
      "cell_type": "markdown",
      "metadata": {
        "id": "l8FUMOnRfScy"
      },
      "source": [
        "For ensuring no more other values viewing the unique vales of the column age"
      ]
    },
    {
      "cell_type": "code",
      "metadata": {
        "colab": {
          "base_uri": "https://localhost:8080/"
        },
        "id": "FeUS2JpOhA7U",
        "outputId": "777d8377-8b47-4b18-847e-11e68599d682"
      },
      "source": [
        "df['age'].unique()"
      ],
      "execution_count": 57,
      "outputs": [
        {
          "output_type": "execute_result",
          "data": {
            "text/plain": [
              "array(['63', '37', '41', '56', '57', '44', '52', '54', '48', '49', '64',\n",
              "       '58', '50', '66', '43', nan, '59', '42', '61', '40', '71', '51',\n",
              "       '65', '46', '45', '53', '39', '47', 'unknown ', '62', '34', '35',\n",
              "       '29', '55', '60', '67', '68', '69', '74', '76', '70', '38', '77'],\n",
              "      dtype=object)"
            ]
          },
          "metadata": {
            "tags": []
          },
          "execution_count": 57
        }
      ]
    },
    {
      "cell_type": "markdown",
      "metadata": {
        "id": "6_MwNPwqf4mC"
      },
      "source": [
        "Same way analysing the values of column sex for errors"
      ]
    },
    {
      "cell_type": "code",
      "metadata": {
        "colab": {
          "base_uri": "https://localhost:8080/"
        },
        "id": "YkLHnNauY0Pq",
        "outputId": "7abe871e-94f7-4423-b520-e60dda305e62"
      },
      "source": [
        "df['sex'].unique()"
      ],
      "execution_count": 58,
      "outputs": [
        {
          "output_type": "execute_result",
          "data": {
            "text/plain": [
              "array([1, 0])"
            ]
          },
          "metadata": {
            "tags": []
          },
          "execution_count": 58
        }
      ]
    },
    {
      "cell_type": "markdown",
      "metadata": {
        "id": "DRD_YhYAgGaf"
      },
      "source": [
        "Aanalysing the columns of cp of errors"
      ]
    },
    {
      "cell_type": "code",
      "metadata": {
        "colab": {
          "base_uri": "https://localhost:8080/"
        },
        "id": "mlq9TwLcZbs2",
        "outputId": "d838e762-c26d-4743-af90-a93e86c156d4"
      },
      "source": [
        "df['cp'].unique()"
      ],
      "execution_count": 59,
      "outputs": [
        {
          "output_type": "execute_result",
          "data": {
            "text/plain": [
              "array(['3', '2', '1', '0', 'unknown'], dtype=object)"
            ]
          },
          "metadata": {
            "tags": []
          },
          "execution_count": 59
        }
      ]
    },
    {
      "cell_type": "markdown",
      "metadata": {
        "id": "wLoE50rMgNXi"
      },
      "source": [
        "For obtaining   the number of null vlaues present in the dataset column age usin loc and index  "
      ]
    },
    {
      "cell_type": "code",
      "metadata": {
        "colab": {
          "base_uri": "https://localhost:8080/"
        },
        "id": "ksz5hUlshcAh",
        "outputId": "a34482ae-59fb-4a43-fa81-1220a29176df"
      },
      "source": [
        "df.loc[df['age'].isnull()].index"
      ],
      "execution_count": 60,
      "outputs": [
        {
          "output_type": "execute_result",
          "data": {
            "text/plain": [
              "Int64Index([19, 29, 203, 210, 218, 268], dtype='int64')"
            ]
          },
          "metadata": {
            "tags": []
          },
          "execution_count": 60
        }
      ]
    },
    {
      "cell_type": "markdown",
      "metadata": {
        "id": "93ZmXq5FglFU"
      },
      "source": [
        "Using drop function to remove the null values and impling it to the  main file "
      ]
    },
    {
      "cell_type": "code",
      "metadata": {
        "id": "X9j24da5hwjp"
      },
      "source": [
        "df.drop(df.loc[df['age'].isnull()].index,inplace=True )"
      ],
      "execution_count": 61,
      "outputs": []
    },
    {
      "cell_type": "markdown",
      "metadata": {
        "id": "fa-wmXOHh1I5"
      },
      "source": [
        "Similarly checking for more undefined terms and removing accordingly to make the data set free from errors and applicable"
      ]
    },
    {
      "cell_type": "code",
      "metadata": {
        "colab": {
          "base_uri": "https://localhost:8080/",
          "height": 142
        },
        "id": "FvobESdmiFHI",
        "outputId": "4c27144b-d62d-4fbb-8ca1-d225830f3ffa"
      },
      "source": [
        "df.loc[df['age'] =='unknown ']"
      ],
      "execution_count": 62,
      "outputs": [
        {
          "output_type": "execute_result",
          "data": {
            "text/html": [
              "<div>\n",
              "<style scoped>\n",
              "    .dataframe tbody tr th:only-of-type {\n",
              "        vertical-align: middle;\n",
              "    }\n",
              "\n",
              "    .dataframe tbody tr th {\n",
              "        vertical-align: top;\n",
              "    }\n",
              "\n",
              "    .dataframe thead th {\n",
              "        text-align: right;\n",
              "    }\n",
              "</style>\n",
              "<table border=\"1\" class=\"dataframe\">\n",
              "  <thead>\n",
              "    <tr style=\"text-align: right;\">\n",
              "      <th></th>\n",
              "      <th>age</th>\n",
              "      <th>sex</th>\n",
              "      <th>cp</th>\n",
              "      <th>trestbps</th>\n",
              "      <th>chol</th>\n",
              "      <th>fbs</th>\n",
              "      <th>restecg</th>\n",
              "      <th>thalach</th>\n",
              "      <th>exang</th>\n",
              "      <th>oldpeak</th>\n",
              "      <th>slope</th>\n",
              "      <th>ca</th>\n",
              "      <th>thal</th>\n",
              "      <th>target</th>\n",
              "    </tr>\n",
              "  </thead>\n",
              "  <tbody>\n",
              "    <tr>\n",
              "      <th>49</th>\n",
              "      <td>unknown</td>\n",
              "      <td>0</td>\n",
              "      <td>0</td>\n",
              "      <td>138</td>\n",
              "      <td>234</td>\n",
              "      <td>0</td>\n",
              "      <td>0</td>\n",
              "      <td>160</td>\n",
              "      <td>0</td>\n",
              "      <td>0.0</td>\n",
              "      <td>2</td>\n",
              "      <td>0</td>\n",
              "      <td>2</td>\n",
              "      <td>1</td>\n",
              "    </tr>\n",
              "    <tr>\n",
              "      <th>64</th>\n",
              "      <td>unknown</td>\n",
              "      <td>1</td>\n",
              "      <td>2</td>\n",
              "      <td>140</td>\n",
              "      <td>211</td>\n",
              "      <td>1</td>\n",
              "      <td>0</td>\n",
              "      <td>165</td>\n",
              "      <td>0</td>\n",
              "      <td>0.0</td>\n",
              "      <td>2</td>\n",
              "      <td>0</td>\n",
              "      <td>2</td>\n",
              "      <td>1</td>\n",
              "    </tr>\n",
              "    <tr>\n",
              "      <th>263</th>\n",
              "      <td>unknown</td>\n",
              "      <td>0</td>\n",
              "      <td>0</td>\n",
              "      <td>108</td>\n",
              "      <td>269</td>\n",
              "      <td>0</td>\n",
              "      <td>1</td>\n",
              "      <td>169</td>\n",
              "      <td>1</td>\n",
              "      <td>1.8</td>\n",
              "      <td>1</td>\n",
              "      <td>2</td>\n",
              "      <td>2</td>\n",
              "      <td>0</td>\n",
              "    </tr>\n",
              "  </tbody>\n",
              "</table>\n",
              "</div>"
            ],
            "text/plain": [
              "          age  sex cp  trestbps  chol  ...  oldpeak  slope  ca  thal  target\n",
              "49   unknown     0  0       138   234  ...      0.0      2   0     2       1\n",
              "64   unknown     1  2       140   211  ...      0.0      2   0     2       1\n",
              "263  unknown     0  0       108   269  ...      1.8      1   2     2       0\n",
              "\n",
              "[3 rows x 14 columns]"
            ]
          },
          "metadata": {
            "tags": []
          },
          "execution_count": 62
        }
      ]
    },
    {
      "cell_type": "code",
      "metadata": {
        "id": "RVBf7gwKjPUe"
      },
      "source": [
        "df.drop(df.loc[df['age'] == 'unknown '].index,inplace=True )"
      ],
      "execution_count": 63,
      "outputs": []
    },
    {
      "cell_type": "code",
      "metadata": {
        "colab": {
          "base_uri": "https://localhost:8080/"
        },
        "id": "Aby9TIoFiimi",
        "outputId": "8af38ba7-ada5-471e-83a4-9defb5dfbe4a"
      },
      "source": [
        "df['age'].unique()"
      ],
      "execution_count": 64,
      "outputs": [
        {
          "output_type": "execute_result",
          "data": {
            "text/plain": [
              "array(['63', '37', '41', '56', '57', '44', '52', '54', '48', '49', '64',\n",
              "       '58', '50', '66', '43', '59', '42', '61', '40', '71', '51', '65',\n",
              "       '46', '45', '53', '39', '47', '62', '34', '35', '29', '55', '60',\n",
              "       '67', '68', '69', '74', '76', '70', '38', '77'], dtype=object)"
            ]
          },
          "metadata": {
            "tags": []
          },
          "execution_count": 64
        }
      ]
    },
    {
      "cell_type": "code",
      "metadata": {
        "colab": {
          "base_uri": "https://localhost:8080/"
        },
        "id": "gXS73lZxjok4",
        "outputId": "33d11601-2d0b-47ad-9a74-68cbef4b03fc"
      },
      "source": [
        "df['cp'].unique()"
      ],
      "execution_count": 65,
      "outputs": [
        {
          "output_type": "execute_result",
          "data": {
            "text/plain": [
              "array(['3', '2', '1', '0', 'unknown'], dtype=object)"
            ]
          },
          "metadata": {
            "tags": []
          },
          "execution_count": 65
        }
      ]
    },
    {
      "cell_type": "code",
      "metadata": {
        "id": "qu3q842Lj3IJ"
      },
      "source": [
        "df.drop(df.loc[df['cp'] == 'unknown'].index,inplace=True )"
      ],
      "execution_count": 66,
      "outputs": []
    },
    {
      "cell_type": "code",
      "metadata": {
        "colab": {
          "base_uri": "https://localhost:8080/"
        },
        "id": "EjlV7z2Hj8bc",
        "outputId": "ebd09bd4-77ab-4aa3-f3f4-1fd10aeb6ff6"
      },
      "source": [
        "df['cp'].unique()"
      ],
      "execution_count": 67,
      "outputs": [
        {
          "output_type": "execute_result",
          "data": {
            "text/plain": [
              "array(['3', '2', '1', '0'], dtype=object)"
            ]
          },
          "metadata": {
            "tags": []
          },
          "execution_count": 67
        }
      ]
    },
    {
      "cell_type": "markdown",
      "metadata": {
        "id": "NW7K8qDfi69v"
      },
      "source": [
        "Obtaining  an idea of the data set the average values and its variation and other properties."
      ]
    },
    {
      "cell_type": "code",
      "metadata": {
        "colab": {
          "base_uri": "https://localhost:8080/",
          "height": 317
        },
        "id": "lAXku2BKizTw",
        "outputId": "52242b63-c974-48ba-b8fd-b77a4cb40d62"
      },
      "source": [
        "df.describe()"
      ],
      "execution_count": 94,
      "outputs": [
        {
          "output_type": "execute_result",
          "data": {
            "text/html": [
              "<div>\n",
              "<style scoped>\n",
              "    .dataframe tbody tr th:only-of-type {\n",
              "        vertical-align: middle;\n",
              "    }\n",
              "\n",
              "    .dataframe tbody tr th {\n",
              "        vertical-align: top;\n",
              "    }\n",
              "\n",
              "    .dataframe thead th {\n",
              "        text-align: right;\n",
              "    }\n",
              "</style>\n",
              "<table border=\"1\" class=\"dataframe\">\n",
              "  <thead>\n",
              "    <tr style=\"text-align: right;\">\n",
              "      <th></th>\n",
              "      <th>sex</th>\n",
              "      <th>trestbps</th>\n",
              "      <th>chol</th>\n",
              "      <th>fbs</th>\n",
              "      <th>restecg</th>\n",
              "      <th>thalach</th>\n",
              "      <th>exang</th>\n",
              "      <th>oldpeak</th>\n",
              "      <th>slope</th>\n",
              "      <th>ca</th>\n",
              "      <th>thal</th>\n",
              "      <th>target</th>\n",
              "    </tr>\n",
              "  </thead>\n",
              "  <tbody>\n",
              "    <tr>\n",
              "      <th>count</th>\n",
              "      <td>292.000000</td>\n",
              "      <td>292.000000</td>\n",
              "      <td>292.000000</td>\n",
              "      <td>292.000000</td>\n",
              "      <td>292.000000</td>\n",
              "      <td>292.000000</td>\n",
              "      <td>292.000000</td>\n",
              "      <td>292.000000</td>\n",
              "      <td>292.000000</td>\n",
              "      <td>292.000000</td>\n",
              "      <td>292.000000</td>\n",
              "      <td>292.000000</td>\n",
              "    </tr>\n",
              "    <tr>\n",
              "      <th>mean</th>\n",
              "      <td>0.681507</td>\n",
              "      <td>131.482877</td>\n",
              "      <td>246.681507</td>\n",
              "      <td>0.140411</td>\n",
              "      <td>0.537671</td>\n",
              "      <td>149.561644</td>\n",
              "      <td>0.328767</td>\n",
              "      <td>1.029452</td>\n",
              "      <td>1.400685</td>\n",
              "      <td>0.729452</td>\n",
              "      <td>2.315068</td>\n",
              "      <td>0.544521</td>\n",
              "    </tr>\n",
              "    <tr>\n",
              "      <th>std</th>\n",
              "      <td>0.466692</td>\n",
              "      <td>17.504336</td>\n",
              "      <td>52.394531</td>\n",
              "      <td>0.348009</td>\n",
              "      <td>0.526238</td>\n",
              "      <td>23.110662</td>\n",
              "      <td>0.470572</td>\n",
              "      <td>1.163398</td>\n",
              "      <td>0.615158</td>\n",
              "      <td>1.028171</td>\n",
              "      <td>0.617649</td>\n",
              "      <td>0.498869</td>\n",
              "    </tr>\n",
              "    <tr>\n",
              "      <th>min</th>\n",
              "      <td>0.000000</td>\n",
              "      <td>94.000000</td>\n",
              "      <td>126.000000</td>\n",
              "      <td>0.000000</td>\n",
              "      <td>0.000000</td>\n",
              "      <td>71.000000</td>\n",
              "      <td>0.000000</td>\n",
              "      <td>0.000000</td>\n",
              "      <td>0.000000</td>\n",
              "      <td>0.000000</td>\n",
              "      <td>0.000000</td>\n",
              "      <td>0.000000</td>\n",
              "    </tr>\n",
              "    <tr>\n",
              "      <th>25%</th>\n",
              "      <td>0.000000</td>\n",
              "      <td>120.000000</td>\n",
              "      <td>211.000000</td>\n",
              "      <td>0.000000</td>\n",
              "      <td>0.000000</td>\n",
              "      <td>133.000000</td>\n",
              "      <td>0.000000</td>\n",
              "      <td>0.000000</td>\n",
              "      <td>1.000000</td>\n",
              "      <td>0.000000</td>\n",
              "      <td>2.000000</td>\n",
              "      <td>0.000000</td>\n",
              "    </tr>\n",
              "    <tr>\n",
              "      <th>50%</th>\n",
              "      <td>1.000000</td>\n",
              "      <td>130.000000</td>\n",
              "      <td>241.500000</td>\n",
              "      <td>0.000000</td>\n",
              "      <td>1.000000</td>\n",
              "      <td>153.000000</td>\n",
              "      <td>0.000000</td>\n",
              "      <td>0.750000</td>\n",
              "      <td>1.000000</td>\n",
              "      <td>0.000000</td>\n",
              "      <td>2.000000</td>\n",
              "      <td>1.000000</td>\n",
              "    </tr>\n",
              "    <tr>\n",
              "      <th>75%</th>\n",
              "      <td>1.000000</td>\n",
              "      <td>140.000000</td>\n",
              "      <td>275.250000</td>\n",
              "      <td>0.000000</td>\n",
              "      <td>1.000000</td>\n",
              "      <td>166.250000</td>\n",
              "      <td>1.000000</td>\n",
              "      <td>1.600000</td>\n",
              "      <td>2.000000</td>\n",
              "      <td>1.000000</td>\n",
              "      <td>3.000000</td>\n",
              "      <td>1.000000</td>\n",
              "    </tr>\n",
              "    <tr>\n",
              "      <th>max</th>\n",
              "      <td>1.000000</td>\n",
              "      <td>200.000000</td>\n",
              "      <td>564.000000</td>\n",
              "      <td>1.000000</td>\n",
              "      <td>2.000000</td>\n",
              "      <td>202.000000</td>\n",
              "      <td>1.000000</td>\n",
              "      <td>6.200000</td>\n",
              "      <td>2.000000</td>\n",
              "      <td>4.000000</td>\n",
              "      <td>3.000000</td>\n",
              "      <td>1.000000</td>\n",
              "    </tr>\n",
              "  </tbody>\n",
              "</table>\n",
              "</div>"
            ],
            "text/plain": [
              "              sex    trestbps        chol  ...          ca        thal      target\n",
              "count  292.000000  292.000000  292.000000  ...  292.000000  292.000000  292.000000\n",
              "mean     0.681507  131.482877  246.681507  ...    0.729452    2.315068    0.544521\n",
              "std      0.466692   17.504336   52.394531  ...    1.028171    0.617649    0.498869\n",
              "min      0.000000   94.000000  126.000000  ...    0.000000    0.000000    0.000000\n",
              "25%      0.000000  120.000000  211.000000  ...    0.000000    2.000000    0.000000\n",
              "50%      1.000000  130.000000  241.500000  ...    0.000000    2.000000    1.000000\n",
              "75%      1.000000  140.000000  275.250000  ...    1.000000    3.000000    1.000000\n",
              "max      1.000000  200.000000  564.000000  ...    4.000000    3.000000    1.000000\n",
              "\n",
              "[8 rows x 12 columns]"
            ]
          },
          "metadata": {
            "tags": []
          },
          "execution_count": 94
        }
      ]
    },
    {
      "cell_type": "markdown",
      "metadata": {
        "id": "hK_rrKs2iZj3"
      },
      "source": [
        "Defining another variable for specific value to the data set file making to another dataset"
      ]
    },
    {
      "cell_type": "code",
      "metadata": {
        "execution": {
          "iopub.execute_input": "2021-02-02T08:12:34.538228Z",
          "iopub.status.busy": "2021-02-02T08:12:34.537508Z",
          "iopub.status.idle": "2021-02-02T08:12:34.584210Z",
          "shell.execute_reply": "2021-02-02T08:12:34.583629Z"
        },
        "papermill": {
          "duration": 0.076589,
          "end_time": "2021-02-02T08:12:34.584357",
          "exception": false,
          "start_time": "2021-02-02T08:12:34.507768",
          "status": "completed"
        },
        "tags": [],
        "colab": {
          "base_uri": "https://localhost:8080/",
          "height": 419
        },
        "id": "QVU6FSLKG7O0",
        "outputId": "9094860a-9c58-458d-cbe4-25cabe6fd055"
      },
      "source": [
        "target =df[df['target']==1]\n",
        "target"
      ],
      "execution_count": 68,
      "outputs": [
        {
          "output_type": "execute_result",
          "data": {
            "text/html": [
              "<div>\n",
              "<style scoped>\n",
              "    .dataframe tbody tr th:only-of-type {\n",
              "        vertical-align: middle;\n",
              "    }\n",
              "\n",
              "    .dataframe tbody tr th {\n",
              "        vertical-align: top;\n",
              "    }\n",
              "\n",
              "    .dataframe thead th {\n",
              "        text-align: right;\n",
              "    }\n",
              "</style>\n",
              "<table border=\"1\" class=\"dataframe\">\n",
              "  <thead>\n",
              "    <tr style=\"text-align: right;\">\n",
              "      <th></th>\n",
              "      <th>age</th>\n",
              "      <th>sex</th>\n",
              "      <th>cp</th>\n",
              "      <th>trestbps</th>\n",
              "      <th>chol</th>\n",
              "      <th>fbs</th>\n",
              "      <th>restecg</th>\n",
              "      <th>thalach</th>\n",
              "      <th>exang</th>\n",
              "      <th>oldpeak</th>\n",
              "      <th>slope</th>\n",
              "      <th>ca</th>\n",
              "      <th>thal</th>\n",
              "      <th>target</th>\n",
              "    </tr>\n",
              "  </thead>\n",
              "  <tbody>\n",
              "    <tr>\n",
              "      <th>0</th>\n",
              "      <td>63</td>\n",
              "      <td>1</td>\n",
              "      <td>3</td>\n",
              "      <td>145</td>\n",
              "      <td>233</td>\n",
              "      <td>1</td>\n",
              "      <td>0</td>\n",
              "      <td>150</td>\n",
              "      <td>0</td>\n",
              "      <td>2.3</td>\n",
              "      <td>0</td>\n",
              "      <td>0</td>\n",
              "      <td>1</td>\n",
              "      <td>1</td>\n",
              "    </tr>\n",
              "    <tr>\n",
              "      <th>1</th>\n",
              "      <td>37</td>\n",
              "      <td>1</td>\n",
              "      <td>2</td>\n",
              "      <td>130</td>\n",
              "      <td>250</td>\n",
              "      <td>0</td>\n",
              "      <td>1</td>\n",
              "      <td>187</td>\n",
              "      <td>0</td>\n",
              "      <td>3.5</td>\n",
              "      <td>0</td>\n",
              "      <td>0</td>\n",
              "      <td>2</td>\n",
              "      <td>1</td>\n",
              "    </tr>\n",
              "    <tr>\n",
              "      <th>2</th>\n",
              "      <td>41</td>\n",
              "      <td>0</td>\n",
              "      <td>1</td>\n",
              "      <td>130</td>\n",
              "      <td>204</td>\n",
              "      <td>0</td>\n",
              "      <td>0</td>\n",
              "      <td>172</td>\n",
              "      <td>0</td>\n",
              "      <td>1.4</td>\n",
              "      <td>2</td>\n",
              "      <td>0</td>\n",
              "      <td>2</td>\n",
              "      <td>1</td>\n",
              "    </tr>\n",
              "    <tr>\n",
              "      <th>3</th>\n",
              "      <td>56</td>\n",
              "      <td>1</td>\n",
              "      <td>1</td>\n",
              "      <td>120</td>\n",
              "      <td>236</td>\n",
              "      <td>0</td>\n",
              "      <td>1</td>\n",
              "      <td>178</td>\n",
              "      <td>0</td>\n",
              "      <td>0.8</td>\n",
              "      <td>2</td>\n",
              "      <td>0</td>\n",
              "      <td>2</td>\n",
              "      <td>1</td>\n",
              "    </tr>\n",
              "    <tr>\n",
              "      <th>4</th>\n",
              "      <td>57</td>\n",
              "      <td>0</td>\n",
              "      <td>0</td>\n",
              "      <td>120</td>\n",
              "      <td>354</td>\n",
              "      <td>0</td>\n",
              "      <td>1</td>\n",
              "      <td>163</td>\n",
              "      <td>1</td>\n",
              "      <td>0.6</td>\n",
              "      <td>2</td>\n",
              "      <td>0</td>\n",
              "      <td>2</td>\n",
              "      <td>1</td>\n",
              "    </tr>\n",
              "    <tr>\n",
              "      <th>...</th>\n",
              "      <td>...</td>\n",
              "      <td>...</td>\n",
              "      <td>...</td>\n",
              "      <td>...</td>\n",
              "      <td>...</td>\n",
              "      <td>...</td>\n",
              "      <td>...</td>\n",
              "      <td>...</td>\n",
              "      <td>...</td>\n",
              "      <td>...</td>\n",
              "      <td>...</td>\n",
              "      <td>...</td>\n",
              "      <td>...</td>\n",
              "      <td>...</td>\n",
              "    </tr>\n",
              "    <tr>\n",
              "      <th>160</th>\n",
              "      <td>56</td>\n",
              "      <td>1</td>\n",
              "      <td>1</td>\n",
              "      <td>120</td>\n",
              "      <td>240</td>\n",
              "      <td>0</td>\n",
              "      <td>1</td>\n",
              "      <td>169</td>\n",
              "      <td>0</td>\n",
              "      <td>0.0</td>\n",
              "      <td>0</td>\n",
              "      <td>0</td>\n",
              "      <td>2</td>\n",
              "      <td>1</td>\n",
              "    </tr>\n",
              "    <tr>\n",
              "      <th>161</th>\n",
              "      <td>55</td>\n",
              "      <td>0</td>\n",
              "      <td>1</td>\n",
              "      <td>132</td>\n",
              "      <td>342</td>\n",
              "      <td>0</td>\n",
              "      <td>1</td>\n",
              "      <td>166</td>\n",
              "      <td>0</td>\n",
              "      <td>1.2</td>\n",
              "      <td>2</td>\n",
              "      <td>0</td>\n",
              "      <td>2</td>\n",
              "      <td>1</td>\n",
              "    </tr>\n",
              "    <tr>\n",
              "      <th>162</th>\n",
              "      <td>41</td>\n",
              "      <td>1</td>\n",
              "      <td>1</td>\n",
              "      <td>120</td>\n",
              "      <td>157</td>\n",
              "      <td>0</td>\n",
              "      <td>1</td>\n",
              "      <td>182</td>\n",
              "      <td>0</td>\n",
              "      <td>0.0</td>\n",
              "      <td>2</td>\n",
              "      <td>0</td>\n",
              "      <td>2</td>\n",
              "      <td>1</td>\n",
              "    </tr>\n",
              "    <tr>\n",
              "      <th>163</th>\n",
              "      <td>38</td>\n",
              "      <td>1</td>\n",
              "      <td>2</td>\n",
              "      <td>138</td>\n",
              "      <td>175</td>\n",
              "      <td>0</td>\n",
              "      <td>1</td>\n",
              "      <td>173</td>\n",
              "      <td>0</td>\n",
              "      <td>0.0</td>\n",
              "      <td>2</td>\n",
              "      <td>4</td>\n",
              "      <td>2</td>\n",
              "      <td>1</td>\n",
              "    </tr>\n",
              "    <tr>\n",
              "      <th>164</th>\n",
              "      <td>38</td>\n",
              "      <td>1</td>\n",
              "      <td>2</td>\n",
              "      <td>138</td>\n",
              "      <td>175</td>\n",
              "      <td>0</td>\n",
              "      <td>1</td>\n",
              "      <td>173</td>\n",
              "      <td>0</td>\n",
              "      <td>0.0</td>\n",
              "      <td>2</td>\n",
              "      <td>4</td>\n",
              "      <td>2</td>\n",
              "      <td>1</td>\n",
              "    </tr>\n",
              "  </tbody>\n",
              "</table>\n",
              "<p>159 rows × 14 columns</p>\n",
              "</div>"
            ],
            "text/plain": [
              "    age  sex cp  trestbps  chol  fbs  ...  exang  oldpeak  slope  ca  thal  target\n",
              "0    63    1  3       145   233    1  ...      0      2.3      0   0     1       1\n",
              "1    37    1  2       130   250    0  ...      0      3.5      0   0     2       1\n",
              "2    41    0  1       130   204    0  ...      0      1.4      2   0     2       1\n",
              "3    56    1  1       120   236    0  ...      0      0.8      2   0     2       1\n",
              "4    57    0  0       120   354    0  ...      1      0.6      2   0     2       1\n",
              "..   ..  ... ..       ...   ...  ...  ...    ...      ...    ...  ..   ...     ...\n",
              "160  56    1  1       120   240    0  ...      0      0.0      0   0     2       1\n",
              "161  55    0  1       132   342    0  ...      0      1.2      2   0     2       1\n",
              "162  41    1  1       120   157    0  ...      0      0.0      2   0     2       1\n",
              "163  38    1  2       138   175    0  ...      0      0.0      2   4     2       1\n",
              "164  38    1  2       138   175    0  ...      0      0.0      2   4     2       1\n",
              "\n",
              "[159 rows x 14 columns]"
            ]
          },
          "metadata": {
            "tags": []
          },
          "execution_count": 68
        }
      ]
    },
    {
      "cell_type": "markdown",
      "metadata": {
        "id": "PjvCPt-uivvH"
      },
      "source": [
        ""
      ]
    },
    {
      "cell_type": "code",
      "metadata": {
        "execution": {
          "iopub.execute_input": "2021-02-02T08:12:34.642514Z",
          "iopub.status.busy": "2021-02-02T08:12:34.641860Z",
          "iopub.status.idle": "2021-02-02T08:12:34.645901Z",
          "shell.execute_reply": "2021-02-02T08:12:34.645199Z"
        },
        "papermill": {
          "duration": 0.035037,
          "end_time": "2021-02-02T08:12:34.646034",
          "exception": false,
          "start_time": "2021-02-02T08:12:34.610997",
          "status": "completed"
        },
        "tags": [],
        "colab": {
          "base_uri": "https://localhost:8080/"
        },
        "id": "nvZ-xDqpG7O1",
        "outputId": "3fab77aa-065b-44ca-e358-a0b8374f6faa"
      },
      "source": [
        "target.shape"
      ],
      "execution_count": 69,
      "outputs": [
        {
          "output_type": "execute_result",
          "data": {
            "text/plain": [
              "(159, 14)"
            ]
          },
          "metadata": {
            "tags": []
          },
          "execution_count": 69
        }
      ]
    },
    {
      "cell_type": "code",
      "metadata": {
        "execution": {
          "iopub.execute_input": "2021-02-02T08:12:34.718721Z",
          "iopub.status.busy": "2021-02-02T08:12:34.710265Z",
          "iopub.status.idle": "2021-02-02T08:12:34.725916Z",
          "shell.execute_reply": "2021-02-02T08:12:34.725093Z"
        },
        "papermill": {
          "duration": 0.05471,
          "end_time": "2021-02-02T08:12:34.726096",
          "exception": false,
          "start_time": "2021-02-02T08:12:34.671386",
          "status": "completed"
        },
        "tags": [],
        "colab": {
          "base_uri": "https://localhost:8080/",
          "height": 419
        },
        "id": "7dIxPiZyG7O1",
        "outputId": "9e2c8755-3145-413b-f562-ee7e5e173ba5"
      },
      "source": [
        "no_target =df[df['target']==0]\n",
        "no_target"
      ],
      "execution_count": 70,
      "outputs": [
        {
          "output_type": "execute_result",
          "data": {
            "text/html": [
              "<div>\n",
              "<style scoped>\n",
              "    .dataframe tbody tr th:only-of-type {\n",
              "        vertical-align: middle;\n",
              "    }\n",
              "\n",
              "    .dataframe tbody tr th {\n",
              "        vertical-align: top;\n",
              "    }\n",
              "\n",
              "    .dataframe thead th {\n",
              "        text-align: right;\n",
              "    }\n",
              "</style>\n",
              "<table border=\"1\" class=\"dataframe\">\n",
              "  <thead>\n",
              "    <tr style=\"text-align: right;\">\n",
              "      <th></th>\n",
              "      <th>age</th>\n",
              "      <th>sex</th>\n",
              "      <th>cp</th>\n",
              "      <th>trestbps</th>\n",
              "      <th>chol</th>\n",
              "      <th>fbs</th>\n",
              "      <th>restecg</th>\n",
              "      <th>thalach</th>\n",
              "      <th>exang</th>\n",
              "      <th>oldpeak</th>\n",
              "      <th>slope</th>\n",
              "      <th>ca</th>\n",
              "      <th>thal</th>\n",
              "      <th>target</th>\n",
              "    </tr>\n",
              "  </thead>\n",
              "  <tbody>\n",
              "    <tr>\n",
              "      <th>165</th>\n",
              "      <td>67</td>\n",
              "      <td>1</td>\n",
              "      <td>0</td>\n",
              "      <td>160</td>\n",
              "      <td>286</td>\n",
              "      <td>0</td>\n",
              "      <td>0</td>\n",
              "      <td>108</td>\n",
              "      <td>1</td>\n",
              "      <td>1.5</td>\n",
              "      <td>1</td>\n",
              "      <td>3</td>\n",
              "      <td>2</td>\n",
              "      <td>0</td>\n",
              "    </tr>\n",
              "    <tr>\n",
              "      <th>166</th>\n",
              "      <td>67</td>\n",
              "      <td>1</td>\n",
              "      <td>0</td>\n",
              "      <td>120</td>\n",
              "      <td>229</td>\n",
              "      <td>0</td>\n",
              "      <td>0</td>\n",
              "      <td>129</td>\n",
              "      <td>1</td>\n",
              "      <td>2.6</td>\n",
              "      <td>1</td>\n",
              "      <td>2</td>\n",
              "      <td>3</td>\n",
              "      <td>0</td>\n",
              "    </tr>\n",
              "    <tr>\n",
              "      <th>167</th>\n",
              "      <td>62</td>\n",
              "      <td>0</td>\n",
              "      <td>0</td>\n",
              "      <td>140</td>\n",
              "      <td>268</td>\n",
              "      <td>0</td>\n",
              "      <td>0</td>\n",
              "      <td>160</td>\n",
              "      <td>0</td>\n",
              "      <td>3.6</td>\n",
              "      <td>0</td>\n",
              "      <td>2</td>\n",
              "      <td>2</td>\n",
              "      <td>0</td>\n",
              "    </tr>\n",
              "    <tr>\n",
              "      <th>168</th>\n",
              "      <td>63</td>\n",
              "      <td>1</td>\n",
              "      <td>0</td>\n",
              "      <td>130</td>\n",
              "      <td>254</td>\n",
              "      <td>0</td>\n",
              "      <td>0</td>\n",
              "      <td>147</td>\n",
              "      <td>0</td>\n",
              "      <td>1.4</td>\n",
              "      <td>1</td>\n",
              "      <td>1</td>\n",
              "      <td>3</td>\n",
              "      <td>0</td>\n",
              "    </tr>\n",
              "    <tr>\n",
              "      <th>169</th>\n",
              "      <td>53</td>\n",
              "      <td>1</td>\n",
              "      <td>0</td>\n",
              "      <td>140</td>\n",
              "      <td>203</td>\n",
              "      <td>1</td>\n",
              "      <td>0</td>\n",
              "      <td>155</td>\n",
              "      <td>1</td>\n",
              "      <td>3.1</td>\n",
              "      <td>0</td>\n",
              "      <td>0</td>\n",
              "      <td>3</td>\n",
              "      <td>0</td>\n",
              "    </tr>\n",
              "    <tr>\n",
              "      <th>...</th>\n",
              "      <td>...</td>\n",
              "      <td>...</td>\n",
              "      <td>...</td>\n",
              "      <td>...</td>\n",
              "      <td>...</td>\n",
              "      <td>...</td>\n",
              "      <td>...</td>\n",
              "      <td>...</td>\n",
              "      <td>...</td>\n",
              "      <td>...</td>\n",
              "      <td>...</td>\n",
              "      <td>...</td>\n",
              "      <td>...</td>\n",
              "      <td>...</td>\n",
              "    </tr>\n",
              "    <tr>\n",
              "      <th>298</th>\n",
              "      <td>57</td>\n",
              "      <td>0</td>\n",
              "      <td>0</td>\n",
              "      <td>140</td>\n",
              "      <td>241</td>\n",
              "      <td>0</td>\n",
              "      <td>1</td>\n",
              "      <td>123</td>\n",
              "      <td>1</td>\n",
              "      <td>0.2</td>\n",
              "      <td>1</td>\n",
              "      <td>0</td>\n",
              "      <td>3</td>\n",
              "      <td>0</td>\n",
              "    </tr>\n",
              "    <tr>\n",
              "      <th>299</th>\n",
              "      <td>45</td>\n",
              "      <td>1</td>\n",
              "      <td>3</td>\n",
              "      <td>110</td>\n",
              "      <td>264</td>\n",
              "      <td>0</td>\n",
              "      <td>1</td>\n",
              "      <td>132</td>\n",
              "      <td>0</td>\n",
              "      <td>1.2</td>\n",
              "      <td>1</td>\n",
              "      <td>0</td>\n",
              "      <td>3</td>\n",
              "      <td>0</td>\n",
              "    </tr>\n",
              "    <tr>\n",
              "      <th>300</th>\n",
              "      <td>68</td>\n",
              "      <td>1</td>\n",
              "      <td>0</td>\n",
              "      <td>144</td>\n",
              "      <td>193</td>\n",
              "      <td>1</td>\n",
              "      <td>1</td>\n",
              "      <td>141</td>\n",
              "      <td>0</td>\n",
              "      <td>3.4</td>\n",
              "      <td>1</td>\n",
              "      <td>2</td>\n",
              "      <td>3</td>\n",
              "      <td>0</td>\n",
              "    </tr>\n",
              "    <tr>\n",
              "      <th>301</th>\n",
              "      <td>57</td>\n",
              "      <td>1</td>\n",
              "      <td>0</td>\n",
              "      <td>130</td>\n",
              "      <td>131</td>\n",
              "      <td>0</td>\n",
              "      <td>1</td>\n",
              "      <td>115</td>\n",
              "      <td>1</td>\n",
              "      <td>1.2</td>\n",
              "      <td>1</td>\n",
              "      <td>1</td>\n",
              "      <td>3</td>\n",
              "      <td>0</td>\n",
              "    </tr>\n",
              "    <tr>\n",
              "      <th>302</th>\n",
              "      <td>57</td>\n",
              "      <td>0</td>\n",
              "      <td>1</td>\n",
              "      <td>130</td>\n",
              "      <td>236</td>\n",
              "      <td>0</td>\n",
              "      <td>0</td>\n",
              "      <td>174</td>\n",
              "      <td>0</td>\n",
              "      <td>0.0</td>\n",
              "      <td>1</td>\n",
              "      <td>1</td>\n",
              "      <td>2</td>\n",
              "      <td>0</td>\n",
              "    </tr>\n",
              "  </tbody>\n",
              "</table>\n",
              "<p>133 rows × 14 columns</p>\n",
              "</div>"
            ],
            "text/plain": [
              "    age  sex cp  trestbps  chol  fbs  ...  exang  oldpeak  slope  ca  thal  target\n",
              "165  67    1  0       160   286    0  ...      1      1.5      1   3     2       0\n",
              "166  67    1  0       120   229    0  ...      1      2.6      1   2     3       0\n",
              "167  62    0  0       140   268    0  ...      0      3.6      0   2     2       0\n",
              "168  63    1  0       130   254    0  ...      0      1.4      1   1     3       0\n",
              "169  53    1  0       140   203    1  ...      1      3.1      0   0     3       0\n",
              "..   ..  ... ..       ...   ...  ...  ...    ...      ...    ...  ..   ...     ...\n",
              "298  57    0  0       140   241    0  ...      1      0.2      1   0     3       0\n",
              "299  45    1  3       110   264    0  ...      0      1.2      1   0     3       0\n",
              "300  68    1  0       144   193    1  ...      0      3.4      1   2     3       0\n",
              "301  57    1  0       130   131    0  ...      1      1.2      1   1     3       0\n",
              "302  57    0  1       130   236    0  ...      0      0.0      1   1     2       0\n",
              "\n",
              "[133 rows x 14 columns]"
            ]
          },
          "metadata": {
            "tags": []
          },
          "execution_count": 70
        }
      ]
    },
    {
      "cell_type": "code",
      "metadata": {
        "execution": {
          "iopub.execute_input": "2021-02-02T08:12:34.815048Z",
          "iopub.status.busy": "2021-02-02T08:12:34.813989Z",
          "iopub.status.idle": "2021-02-02T08:12:34.819591Z",
          "shell.execute_reply": "2021-02-02T08:12:34.818903Z"
        },
        "papermill": {
          "duration": 0.052809,
          "end_time": "2021-02-02T08:12:34.819774",
          "exception": false,
          "start_time": "2021-02-02T08:12:34.766965",
          "status": "completed"
        },
        "tags": [],
        "colab": {
          "base_uri": "https://localhost:8080/"
        },
        "id": "ojaLA5CsG7O1",
        "outputId": "ba382895-bcb8-4b8a-a899-7c3dbd5b8294"
      },
      "source": [
        "no_target.shape"
      ],
      "execution_count": 71,
      "outputs": [
        {
          "output_type": "execute_result",
          "data": {
            "text/plain": [
              "(133, 14)"
            ]
          },
          "metadata": {
            "tags": []
          },
          "execution_count": 71
        }
      ]
    },
    {
      "cell_type": "markdown",
      "metadata": {
        "id": "lfceTr2Yjg8x"
      },
      "source": [
        "Percentage idea about the  probablity can be obtained by printing the total data set index no with specified characterestics"
      ]
    },
    {
      "cell_type": "code",
      "metadata": {
        "execution": {
          "iopub.execute_input": "2021-02-02T08:12:34.911618Z",
          "iopub.status.busy": "2021-02-02T08:12:34.910632Z",
          "iopub.status.idle": "2021-02-02T08:12:34.915243Z",
          "shell.execute_reply": "2021-02-02T08:12:34.914402Z"
        },
        "papermill": {
          "duration": 0.053063,
          "end_time": "2021-02-02T08:12:34.915408",
          "exception": false,
          "start_time": "2021-02-02T08:12:34.862345",
          "status": "completed"
        },
        "tags": [],
        "colab": {
          "base_uri": "https://localhost:8080/"
        },
        "id": "601_-pvbG7O2",
        "outputId": "ca91e63b-8e86-45ed-ab90-db908a89cfa8"
      },
      "source": [
        "print(\"  target =1 :\" ,1*len(target) / len(df)   *100)\n",
        "print(\"  target =0 :\" ,1*len(no_target) / len(df)   *100)"
      ],
      "execution_count": 72,
      "outputs": [
        {
          "output_type": "stream",
          "text": [
            "  target =1 : 54.45205479452054\n",
            "  target =0 : 45.54794520547945\n"
          ],
          "name": "stdout"
        }
      ]
    },
    {
      "cell_type": "markdown",
      "metadata": {
        "id": "bjs85_OckMWg"
      },
      "source": [
        "Plotting the  values with respect to the target values with each attirbute of age and other parametes to analyse the relation "
      ]
    },
    {
      "cell_type": "code",
      "metadata": {
        "execution": {
          "iopub.execute_input": "2021-02-02T08:12:35.043289Z",
          "iopub.status.busy": "2021-02-02T08:12:35.041222Z",
          "iopub.status.idle": "2021-02-02T08:12:35.408334Z",
          "shell.execute_reply": "2021-02-02T08:12:35.407676Z"
        },
        "papermill": {
          "duration": 0.449291,
          "end_time": "2021-02-02T08:12:35.408502",
          "exception": false,
          "start_time": "2021-02-02T08:12:34.959211",
          "status": "completed"
        },
        "tags": [],
        "colab": {
          "base_uri": "https://localhost:8080/",
          "height": 731
        },
        "id": "a6w3UK3IG7O2",
        "outputId": "c490f910-300a-4870-de78-23c6206676f2"
      },
      "source": [
        "plt.figure(figsize=(6,12))\n",
        "plt.subplot(211)\n",
        "sns.countplot(x='sex' ,data=df)\n",
        "plt.subplot(212)\n",
        "sns.countplot(x='sex',hue='target' ,data=df)"
      ],
      "execution_count": 73,
      "outputs": [
        {
          "output_type": "execute_result",
          "data": {
            "text/plain": [
              "<matplotlib.axes._subplots.AxesSubplot at 0x7f239342fe50>"
            ]
          },
          "metadata": {
            "tags": []
          },
          "execution_count": 73
        },
        {
          "output_type": "display_data",
          "data": {
            "image/png": "[encoded data removed]",
            "text/plain": [
              "<Figure size 432x864 with 2 Axes>"
            ]
          },
          "metadata": {
            "tags": [],
            "needs_background": "light"
          }
        }
      ]
    },
    {
      "cell_type": "code",
      "metadata": {
        "execution": {
          "iopub.execute_input": "2021-02-02T08:12:35.472991Z",
          "iopub.status.busy": "2021-02-02T08:12:35.472298Z",
          "iopub.status.idle": "2021-02-02T08:12:35.478637Z",
          "shell.execute_reply": "2021-02-02T08:12:35.477796Z"
        },
        "papermill": {
          "duration": 0.041034,
          "end_time": "2021-02-02T08:12:35.478814",
          "exception": false,
          "start_time": "2021-02-02T08:12:35.437780",
          "status": "completed"
        },
        "tags": [],
        "colab": {
          "base_uri": "https://localhost:8080/"
        },
        "id": "eACk78IbG7O2",
        "outputId": "524bc0e1-d33d-4afe-c263-5aecd86c6e8e"
      },
      "source": [
        "for sex in df['sex'].unique():\n",
        "    print(sex)"
      ],
      "execution_count": 74,
      "outputs": [
        {
          "output_type": "stream",
          "text": [
            "1\n",
            "0\n"
          ],
          "name": "stdout"
        }
      ]
    },
    {
      "cell_type": "code",
      "metadata": {
        "execution": {
          "iopub.execute_input": "2021-02-02T08:12:35.591328Z",
          "iopub.status.busy": "2021-02-02T08:12:35.589935Z",
          "iopub.status.idle": "2021-02-02T08:12:35.883182Z",
          "shell.execute_reply": "2021-02-02T08:12:35.882635Z"
        },
        "papermill": {
          "duration": 0.359183,
          "end_time": "2021-02-02T08:12:35.883299",
          "exception": false,
          "start_time": "2021-02-02T08:12:35.524116",
          "status": "completed"
        },
        "tags": [],
        "colab": {
          "base_uri": "https://localhost:8080/",
          "height": 731
        },
        "id": "06E9jgAgG7O3",
        "outputId": "0a0c3d44-5bbe-4181-bc72-df219ce6c198"
      },
      "source": [
        "plt.figure(figsize=(6,12))\n",
        "plt.subplot(211)\n",
        "sns.countplot(x='thal' ,data=df)\n",
        "plt.subplot(212)\n",
        "sns.countplot(x='thal',hue='target' ,data=df)"
      ],
      "execution_count": 75,
      "outputs": [
        {
          "output_type": "execute_result",
          "data": {
            "text/plain": [
              "<matplotlib.axes._subplots.AxesSubplot at 0x7f2393363710>"
            ]
          },
          "metadata": {
            "tags": []
          },
          "execution_count": 75
        },
        {
          "output_type": "display_data",
          "data": {
            "image/png": "[encoded data removed]",
            "text/plain": [
              "<Figure size 432x864 with 2 Axes>"
            ]
          },
          "metadata": {
            "tags": [],
            "needs_background": "light"
          }
        }
      ]
    },
    {
      "cell_type": "code",
      "metadata": {
        "execution": {
          "iopub.execute_input": "2021-02-02T08:12:36.042132Z",
          "iopub.status.busy": "2021-02-02T08:12:36.031732Z",
          "iopub.status.idle": "2021-02-02T08:12:37.150990Z",
          "shell.execute_reply": "2021-02-02T08:12:37.149534Z"
        },
        "papermill": {
          "duration": 1.243579,
          "end_time": "2021-02-02T08:12:37.151159",
          "exception": false,
          "start_time": "2021-02-02T08:12:35.907580",
          "status": "completed"
        },
        "tags": [],
        "colab": {
          "base_uri": "https://localhost:8080/",
          "height": 1000
        },
        "id": "dzzhkmjxG7O3",
        "outputId": "6d7c780d-f25d-4669-c4c2-b1e5238e16ae"
      },
      "source": [
        "plt.figure(figsize=(10,17))\n",
        "plt.subplot(211)\n",
        "sns.countplot(x='age' ,data=df)\n",
        "plt.subplot(212)\n",
        "sns.countplot(x='age',hue='target' ,data=df)"
      ],
      "execution_count": 76,
      "outputs": [
        {
          "output_type": "execute_result",
          "data": {
            "text/plain": [
              "<matplotlib.axes._subplots.AxesSubplot at 0x7f23932ecd10>"
            ]
          },
          "metadata": {
            "tags": []
          },
          "execution_count": 76
        },
        {
          "output_type": "display_data",
          "data": {
            "image/png": "[encoded data removed]",
            "text/plain": [
              "<Figure size 720x1224 with 2 Axes>"
            ]
          },
          "metadata": {
            "tags": [],
            "needs_background": "light"
          }
        }
      ]
    },
    {
      "cell_type": "code",
      "metadata": {
        "execution": {
          "iopub.execute_input": "2021-02-02T08:12:37.293600Z",
          "iopub.status.busy": "2021-02-02T08:12:37.283541Z",
          "iopub.status.idle": "2021-02-02T08:12:37.578693Z",
          "shell.execute_reply": "2021-02-02T08:12:37.578042Z"
        },
        "papermill": {
          "duration": 0.378957,
          "end_time": "2021-02-02T08:12:37.578828",
          "exception": false,
          "start_time": "2021-02-02T08:12:37.199871",
          "status": "completed"
        },
        "tags": [],
        "colab": {
          "base_uri": "https://localhost:8080/",
          "height": 731
        },
        "id": "04NbiAiFG7O3",
        "outputId": "b50171ef-f8f2-4f49-99ff-4eef4520f358"
      },
      "source": [
        "plt.figure(figsize=(6,12))\n",
        "plt.subplot(211)\n",
        "sns.countplot(x='ca' ,data=df)\n",
        "plt.subplot(212)\n",
        "sns.countplot(x='ca',hue='target' ,data=df)"
      ],
      "execution_count": 77,
      "outputs": [
        {
          "output_type": "execute_result",
          "data": {
            "text/plain": [
              "<matplotlib.axes._subplots.AxesSubplot at 0x7f2392fcc9d0>"
            ]
          },
          "metadata": {
            "tags": []
          },
          "execution_count": 77
        },
        {
          "output_type": "display_data",
          "data": {
            "image/png": "[encoded data removed]",
            "text/plain": [
              "<Figure size 432x864 with 2 Axes>"
            ]
          },
          "metadata": {
            "tags": [],
            "needs_background": "light"
          }
        }
      ]
    },
    {
      "cell_type": "code",
      "metadata": {
        "execution": {
          "iopub.execute_input": "2021-02-02T08:12:37.675997Z",
          "iopub.status.busy": "2021-02-02T08:12:37.671510Z",
          "iopub.status.idle": "2021-02-02T08:12:37.935472Z",
          "shell.execute_reply": "2021-02-02T08:12:37.934615Z"
        },
        "papermill": {
          "duration": 0.323131,
          "end_time": "2021-02-02T08:12:37.935644",
          "exception": false,
          "start_time": "2021-02-02T08:12:37.612513",
          "status": "completed"
        },
        "tags": [],
        "colab": {
          "base_uri": "https://localhost:8080/",
          "height": 1000
        },
        "id": "utPjOMSZG7O4",
        "outputId": "2eed0bcb-b8b5-4f5c-c716-28d47a97631f"
      },
      "source": [
        "plt.figure(figsize=(6,21))\n",
        "plt.subplot(211)\n",
        "sns.countplot(x='exang' ,data=df)\n",
        "plt.subplot(212)\n",
        "sns.countplot(x='exang',hue='target' ,data=df)"
      ],
      "execution_count": 78,
      "outputs": [
        {
          "output_type": "execute_result",
          "data": {
            "text/plain": [
              "<matplotlib.axes._subplots.AxesSubplot at 0x7f2392f645d0>"
            ]
          },
          "metadata": {
            "tags": []
          },
          "execution_count": 78
        },
        {
          "output_type": "display_data",
          "data": {
            "image/png": "[encoded data removed]",
            "text/plain": [
              "<Figure size 432x1512 with 2 Axes>"
            ]
          },
          "metadata": {
            "tags": [],
            "needs_background": "light"
          }
        }
      ]
    },
    {
      "cell_type": "code",
      "metadata": {
        "execution": {
          "iopub.execute_input": "2021-02-02T08:12:38.053216Z",
          "iopub.status.busy": "2021-02-02T08:12:38.050655Z",
          "iopub.status.idle": "2021-02-02T08:12:38.059563Z",
          "shell.execute_reply": "2021-02-02T08:12:38.060885Z"
        },
        "papermill": {
          "duration": 0.072716,
          "end_time": "2021-02-02T08:12:38.061562",
          "exception": false,
          "start_time": "2021-02-02T08:12:37.988846",
          "status": "completed"
        },
        "tags": [],
        "colab": {
          "base_uri": "https://localhost:8080/"
        },
        "id": "RQAqlFolG7O4",
        "outputId": "bc82ea10-9bbb-40b6-97cf-3bb8c0239c87"
      },
      "source": [
        "for gen in df['sex'].unique():\n",
        "    print(gen)\n",
        "    gender_df = df[ df['sex']==gen ]\n",
        "    survived = gender_df[ gender_df['target']==1 ]\n",
        "    survived_percentage = ( survived.shape[0] / gender_df.shape[0] ) * 100\n",
        "    print(\"Count: \", gender_df.shape[0])\n",
        "    print(\"Servived  : \", \"%.2f\" % survived_percentage, '%')\n",
        "    \n",
        "    print(\"------------\")"
      ],
      "execution_count": 79,
      "outputs": [
        {
          "output_type": "stream",
          "text": [
            "1\n",
            "Count:  199\n",
            "Servived  :  44.72 %\n",
            "------------\n",
            "0\n",
            "Count:  93\n",
            "Servived  :  75.27 %\n",
            "------------\n"
          ],
          "name": "stdout"
        }
      ]
    },
    {
      "cell_type": "code",
      "metadata": {
        "execution": {
          "iopub.execute_input": "2021-02-02T08:12:38.184407Z",
          "iopub.status.busy": "2021-02-02T08:12:38.176324Z",
          "iopub.status.idle": "2021-02-02T08:12:38.488126Z",
          "shell.execute_reply": "2021-02-02T08:12:38.487573Z"
        },
        "papermill": {
          "duration": 0.372684,
          "end_time": "2021-02-02T08:12:38.488280",
          "exception": false,
          "start_time": "2021-02-02T08:12:38.115596",
          "status": "completed"
        },
        "tags": [],
        "colab": {
          "base_uri": "https://localhost:8080/",
          "height": 731
        },
        "id": "cI1vXAL2G7O4",
        "outputId": "8e00fee2-08c7-4985-b7f5-434c1cafa6b2"
      },
      "source": [
        "plt.figure(figsize=(6,12))\n",
        "plt.subplot(211)\n",
        "sns.countplot(x='cp' ,data=df)\n",
        "plt.subplot(212)\n",
        "sns.countplot(x='cp' ,hue='target',data=df)"
      ],
      "execution_count": 80,
      "outputs": [
        {
          "output_type": "execute_result",
          "data": {
            "text/plain": [
              "<matplotlib.axes._subplots.AxesSubplot at 0x7f23a17b2e90>"
            ]
          },
          "metadata": {
            "tags": []
          },
          "execution_count": 80
        },
        {
          "output_type": "display_data",
          "data": {
            "image/png": "[encoded data removed]",
            "text/plain": [
              "<Figure size 432x864 with 2 Axes>"
            ]
          },
          "metadata": {
            "tags": [],
            "needs_background": "light"
          }
        }
      ]
    },
    {
      "cell_type": "code",
      "metadata": {
        "execution": {
          "iopub.execute_input": "2021-02-02T08:12:38.570330Z",
          "iopub.status.busy": "2021-02-02T08:12:38.569086Z",
          "iopub.status.idle": "2021-02-02T08:12:38.574403Z",
          "shell.execute_reply": "2021-02-02T08:12:38.573769Z"
        },
        "papermill": {
          "duration": 0.049876,
          "end_time": "2021-02-02T08:12:38.574572",
          "exception": false,
          "start_time": "2021-02-02T08:12:38.524696",
          "status": "completed"
        },
        "tags": [],
        "id": "Vku1Ss4ZG7O4"
      },
      "source": [
        "X = df.drop('target', axis = 1).values\n",
        "y = df['target'].values"
      ],
      "execution_count": 81,
      "outputs": []
    },
    {
      "cell_type": "markdown",
      "metadata": {
        "id": "N_o-JmmgkzS6"
      },
      "source": [
        "Training and testing the data machine learning."
      ]
    },
    {
      "cell_type": "code",
      "metadata": {
        "execution": {
          "iopub.execute_input": "2021-02-02T08:12:38.653931Z",
          "iopub.status.busy": "2021-02-02T08:12:38.653222Z",
          "iopub.status.idle": "2021-02-02T08:12:38.946124Z",
          "shell.execute_reply": "2021-02-02T08:12:38.946741Z"
        },
        "papermill": {
          "duration": 0.335612,
          "end_time": "2021-02-02T08:12:38.946923",
          "exception": false,
          "start_time": "2021-02-02T08:12:38.611311",
          "status": "completed"
        },
        "tags": [],
        "id": "huCeRavmG7O5"
      },
      "source": [
        "from sklearn.model_selection import train_test_split\n",
        "X_train, X_test, y_train, y_test = train_test_split(X, y , test_size = 0.2)"
      ],
      "execution_count": 82,
      "outputs": []
    },
    {
      "cell_type": "code",
      "metadata": {
        "execution": {
          "iopub.execute_input": "2021-02-02T08:12:39.024819Z",
          "iopub.status.busy": "2021-02-02T08:12:39.024210Z",
          "iopub.status.idle": "2021-02-02T08:12:39.030335Z",
          "shell.execute_reply": "2021-02-02T08:12:39.031008Z"
        },
        "papermill": {
          "duration": 0.046642,
          "end_time": "2021-02-02T08:12:39.031226",
          "exception": false,
          "start_time": "2021-02-02T08:12:38.984584",
          "status": "completed"
        },
        "tags": [],
        "colab": {
          "base_uri": "https://localhost:8080/"
        },
        "id": "LVz0FagdG7O5",
        "outputId": "458774d4-670f-46ce-e9e8-2201593cfc20"
      },
      "source": [
        "X_train"
      ],
      "execution_count": 83,
      "outputs": [
        {
          "output_type": "execute_result",
          "data": {
            "text/plain": [
              "array([['63', 1, '0', ..., 2, 2, 3],\n",
              "       ['62', 0, '0', ..., 0, 2, 2],\n",
              "       ['55', 0, '0', ..., 1, 1, 3],\n",
              "       ...,\n",
              "       ['51', 0, '2', ..., 2, 1, 2],\n",
              "       ['67', 1, '0', ..., 1, 3, 2],\n",
              "       ['48', 1, '0', ..., 2, 0, 2]], dtype=object)"
            ]
          },
          "metadata": {
            "tags": []
          },
          "execution_count": 83
        }
      ]
    },
    {
      "cell_type": "code",
      "metadata": {
        "execution": {
          "iopub.execute_input": "2021-02-02T08:12:39.147890Z",
          "iopub.status.busy": "2021-02-02T08:12:39.146766Z",
          "iopub.status.idle": "2021-02-02T08:12:39.161842Z",
          "shell.execute_reply": "2021-02-02T08:12:39.162507Z"
        },
        "papermill": {
          "duration": 0.075102,
          "end_time": "2021-02-02T08:12:39.162701",
          "exception": false,
          "start_time": "2021-02-02T08:12:39.087599",
          "status": "completed"
        },
        "tags": [],
        "colab": {
          "base_uri": "https://localhost:8080/"
        },
        "id": "IkEUH2QlG7O5",
        "outputId": "5caf2d16-5516-45e6-8766-c440a858c3a7"
      },
      "source": [
        "X_test"
      ],
      "execution_count": 84,
      "outputs": [
        {
          "output_type": "execute_result",
          "data": {
            "text/plain": [
              "array([['57', 1, '0', 110, 335, 0, 1, 143, 1, 3.0, 1, 1, 3],\n",
              "       ['44', 1, '1', 120, 263, 0, 1, 173, 0, 0.0, 2, 0, 3],\n",
              "       ['61', 0, '0', 130, 330, 0, 0, 169, 0, 0.0, 2, 0, 2],\n",
              "       ['45', 0, '1', 130, 234, 0, 0, 175, 0, 0.6, 1, 0, 2],\n",
              "       ['51', 1, '0', 140, 261, 0, 0, 186, 1, 0.0, 2, 0, 2],\n",
              "       ['43', 0, '2', 122, 213, 0, 1, 165, 0, 0.2, 1, 0, 2],\n",
              "       ['44', 0, '2', 108, 141, 0, 1, 175, 0, 0.6, 1, 0, 2],\n",
              "       ['58', 0, '3', 150, 283, 1, 0, 162, 0, 1.0, 2, 0, 2],\n",
              "       ['57', 1, '2', 150, 168, 0, 1, 174, 0, 1.6, 2, 0, 2],\n",
              "       ['70', 1, '1', 156, 245, 0, 0, 143, 0, 0.0, 2, 0, 2],\n",
              "       ['70', 1, '2', 160, 269, 0, 1, 112, 1, 2.9, 1, 1, 3],\n",
              "       ['58', 1, '0', 100, 234, 0, 1, 156, 0, 0.1, 2, 1, 3],\n",
              "       ['61', 1, '0', 120, 260, 0, 1, 140, 1, 3.6, 1, 1, 3],\n",
              "       ['35', 1, '0', 126, 282, 0, 0, 156, 1, 0.0, 2, 0, 3],\n",
              "       ['60', 1, '0', 117, 230, 1, 1, 160, 1, 1.4, 2, 2, 3],\n",
              "       ['39', 0, '2', 94, 199, 0, 1, 179, 0, 0.0, 2, 0, 2],\n",
              "       ['54', 0, '2', 160, 201, 0, 1, 163, 0, 0.0, 2, 1, 2],\n",
              "       ['58', 1, '0', 128, 216, 0, 0, 131, 1, 2.2, 1, 3, 3],\n",
              "       ['57', 1, '0', 130, 131, 0, 1, 115, 1, 1.2, 1, 1, 3],\n",
              "       ['41', 0, '1', 126, 306, 0, 1, 163, 0, 0.0, 2, 0, 2],\n",
              "       ['59', 0, '0', 174, 249, 0, 1, 143, 1, 0.0, 1, 0, 2],\n",
              "       ['65', 0, '0', 150, 225, 0, 0, 114, 0, 1.0, 1, 3, 3],\n",
              "       ['40', 1, '0', 152, 223, 0, 1, 181, 0, 0.0, 2, 0, 3],\n",
              "       ['42', 1, '0', 136, 315, 0, 1, 125, 1, 1.8, 1, 0, 1],\n",
              "       ['57', 1, '0', 110, 201, 0, 1, 126, 1, 1.5, 1, 0, 1],\n",
              "       ['59', 1, '3', 134, 204, 0, 1, 162, 0, 0.8, 2, 2, 2],\n",
              "       ['57', 1, '1', 154, 232, 0, 0, 164, 0, 0.0, 2, 1, 2],\n",
              "       ['56', 0, '0', 200, 288, 1, 0, 133, 1, 4.0, 0, 2, 3],\n",
              "       ['66', 1, '0', 160, 228, 0, 0, 138, 0, 2.3, 2, 0, 1],\n",
              "       ['42', 0, '0', 102, 265, 0, 0, 122, 0, 0.6, 1, 0, 2],\n",
              "       ['50', 1, '0', 150, 243, 0, 0, 128, 0, 2.6, 1, 0, 3],\n",
              "       ['52', 1, '1', 128, 205, 1, 1, 184, 0, 0.0, 2, 0, 2],\n",
              "       ['59', 1, '2', 126, 218, 1, 1, 134, 0, 2.2, 1, 1, 1],\n",
              "       ['59', 1, '0', 164, 176, 1, 0, 90, 0, 1.0, 1, 2, 1],\n",
              "       ['53', 1, '0', 123, 282, 0, 1, 95, 1, 2.0, 1, 2, 3],\n",
              "       ['44', 1, '2', 120, 226, 0, 1, 169, 0, 0.0, 2, 0, 2],\n",
              "       ['56', 1, '0', 132, 184, 0, 0, 105, 1, 2.1, 1, 1, 1],\n",
              "       ['57', 1, '0', 165, 289, 1, 0, 124, 0, 1.0, 1, 3, 3],\n",
              "       ['62', 1, '1', 120, 281, 0, 0, 103, 0, 1.4, 1, 1, 3],\n",
              "       ['67', 1, '0', 120, 237, 0, 1, 71, 0, 1.0, 1, 0, 2],\n",
              "       ['70', 1, '0', 145, 174, 0, 1, 125, 1, 2.6, 0, 0, 3],\n",
              "       ['40', 1, '0', 110, 167, 0, 0, 114, 1, 2.0, 1, 0, 3],\n",
              "       ['46', 0, '1', 105, 204, 0, 1, 172, 0, 0.0, 2, 0, 2],\n",
              "       ['56', 1, '1', 120, 240, 0, 1, 169, 0, 0.0, 0, 0, 2],\n",
              "       ['61', 1, '0', 140, 207, 0, 0, 138, 1, 1.9, 2, 1, 3],\n",
              "       ['50', 1, '2', 140, 233, 0, 1, 163, 0, 0.6, 1, 1, 3],\n",
              "       ['41', 0, '1', 105, 198, 0, 1, 168, 0, 0.0, 2, 1, 2],\n",
              "       ['63', 1, '0', 130, 330, 1, 0, 132, 1, 1.8, 2, 3, 3],\n",
              "       ['50', 1, '0', 144, 200, 0, 0, 126, 1, 0.9, 1, 0, 3],\n",
              "       ['60', 1, '2', 140, 185, 0, 0, 155, 0, 3.0, 1, 0, 2],\n",
              "       ['46', 1, '2', 150, 231, 0, 1, 147, 0, 3.6, 1, 0, 2],\n",
              "       ['58', 1, '0', 128, 259, 0, 0, 130, 1, 3.0, 1, 2, 3],\n",
              "       ['42', 1, '0', 140, 226, 0, 1, 178, 0, 0.0, 2, 0, 2],\n",
              "       ['62', 0, '0', 138, 294, 1, 1, 106, 0, 1.9, 1, 3, 2],\n",
              "       ['39', 1, '0', 118, 219, 0, 1, 140, 0, 1.2, 1, 0, 3],\n",
              "       ['54', 0, '2', 108, 267, 0, 0, 167, 0, 0.0, 2, 0, 2],\n",
              "       ['41', 1, '2', 112, 250, 0, 1, 179, 0, 0.0, 2, 0, 2],\n",
              "       ['56', 1, '0', 130, 283, 1, 0, 103, 1, 1.6, 0, 0, 3],\n",
              "       ['66', 0, '0', 178, 228, 1, 1, 165, 1, 1.0, 1, 2, 3]], dtype=object)"
            ]
          },
          "metadata": {
            "tags": []
          },
          "execution_count": 84
        }
      ]
    },
    {
      "cell_type": "code",
      "metadata": {
        "execution": {
          "iopub.execute_input": "2021-02-02T08:12:39.282061Z",
          "iopub.status.busy": "2021-02-02T08:12:39.280895Z",
          "iopub.status.idle": "2021-02-02T08:12:39.289387Z",
          "shell.execute_reply": "2021-02-02T08:12:39.288545Z"
        },
        "papermill": {
          "duration": 0.069233,
          "end_time": "2021-02-02T08:12:39.289599",
          "exception": false,
          "start_time": "2021-02-02T08:12:39.220366",
          "status": "completed"
        },
        "tags": [],
        "colab": {
          "base_uri": "https://localhost:8080/"
        },
        "id": "ZWHN_wFZG7O5",
        "outputId": "fbe6a441-7b41-413c-d8bb-575c591f76ac"
      },
      "source": [
        "y_train"
      ],
      "execution_count": 85,
      "outputs": [
        {
          "output_type": "execute_result",
          "data": {
            "text/plain": [
              "array([0, 0, 0, 0, 0, 1, 1, 1, 0, 0, 1, 1, 0, 1, 1, 0, 1, 0, 1, 1, 0, 1,\n",
              "       1, 0, 1, 0, 1, 1, 0, 1, 1, 1, 0, 0, 0, 0, 0, 1, 0, 0, 0, 0, 1, 0,\n",
              "       1, 0, 1, 1, 1, 1, 1, 1, 0, 1, 0, 1, 1, 1, 0, 0, 0, 0, 0, 0, 1, 0,\n",
              "       1, 1, 0, 0, 0, 1, 1, 0, 0, 1, 1, 0, 1, 1, 1, 0, 1, 1, 1, 1, 0, 1,\n",
              "       0, 1, 0, 1, 1, 1, 1, 0, 0, 0, 1, 1, 0, 1, 1, 0, 0, 1, 1, 1, 1, 0,\n",
              "       1, 0, 1, 0, 1, 0, 1, 1, 1, 1, 1, 1, 0, 1, 1, 1, 0, 0, 1, 1, 1, 1,\n",
              "       0, 0, 0, 1, 1, 0, 1, 0, 1, 1, 0, 1, 0, 0, 0, 1, 0, 1, 1, 1, 1, 1,\n",
              "       1, 1, 1, 0, 1, 1, 1, 0, 0, 0, 0, 1, 0, 0, 1, 1, 0, 0, 0, 1, 0, 0,\n",
              "       1, 1, 0, 1, 0, 0, 1, 1, 1, 1, 0, 0, 1, 1, 1, 0, 1, 0, 0, 1, 1, 1,\n",
              "       0, 0, 1, 0, 1, 0, 1, 0, 1, 1, 1, 0, 1, 1, 1, 1, 1, 0, 1, 0, 1, 1,\n",
              "       1, 1, 1, 1, 1, 1, 1, 1, 1, 1, 1, 0, 1])"
            ]
          },
          "metadata": {
            "tags": []
          },
          "execution_count": 85
        }
      ]
    },
    {
      "cell_type": "code",
      "metadata": {
        "execution": {
          "iopub.execute_input": "2021-02-02T08:12:39.414357Z",
          "iopub.status.busy": "2021-02-02T08:12:39.413545Z",
          "iopub.status.idle": "2021-02-02T08:12:39.416704Z",
          "shell.execute_reply": "2021-02-02T08:12:39.417356Z"
        },
        "papermill": {
          "duration": 0.067839,
          "end_time": "2021-02-02T08:12:39.417573",
          "exception": false,
          "start_time": "2021-02-02T08:12:39.349734",
          "status": "completed"
        },
        "tags": [],
        "colab": {
          "base_uri": "https://localhost:8080/"
        },
        "id": "p9tz0DBPG7O5",
        "outputId": "0ee6c19f-3294-497c-eb23-5f1a1f2cd5c4"
      },
      "source": [
        "X_train.shape"
      ],
      "execution_count": 86,
      "outputs": [
        {
          "output_type": "execute_result",
          "data": {
            "text/plain": [
              "(233, 13)"
            ]
          },
          "metadata": {
            "tags": []
          },
          "execution_count": 86
        }
      ]
    },
    {
      "cell_type": "code",
      "metadata": {
        "execution": {
          "iopub.execute_input": "2021-02-02T08:12:39.541025Z",
          "iopub.status.busy": "2021-02-02T08:12:39.540190Z",
          "iopub.status.idle": "2021-02-02T08:12:39.710196Z",
          "shell.execute_reply": "2021-02-02T08:12:39.709475Z"
        },
        "papermill": {
          "duration": 0.232433,
          "end_time": "2021-02-02T08:12:39.710360",
          "exception": false,
          "start_time": "2021-02-02T08:12:39.477927",
          "status": "completed"
        },
        "tags": [],
        "colab": {
          "base_uri": "https://localhost:8080/"
        },
        "id": "KAcdFHXKG7O5",
        "outputId": "607b6b5d-4623-4d95-af7c-84117083f932"
      },
      "source": [
        "from sklearn.linear_model import LogisticRegression\n",
        "l = LogisticRegression()\n",
        "l.fit(X_train, y_train)"
      ],
      "execution_count": 87,
      "outputs": [
        {
          "output_type": "stream",
          "text": [
            "/usr/local/lib/python3.7/dist-packages/sklearn/linear_model/_logistic.py:940: ConvergenceWarning: lbfgs failed to converge (status=1):\n",
            "STOP: TOTAL NO. of ITERATIONS REACHED LIMIT.\n",
            "\n",
            "Increase the number of iterations (max_iter) or scale the data as shown in:\n",
            "    https://scikit-learn.org/stable/modules/preprocessing.html\n",
            "Please also refer to the documentation for alternative solver options:\n",
            "    https://scikit-learn.org/stable/modules/linear_model.html#logistic-regression\n",
            "  extra_warning_msg=_LOGISTIC_SOLVER_CONVERGENCE_MSG)\n"
          ],
          "name": "stderr"
        },
        {
          "output_type": "execute_result",
          "data": {
            "text/plain": [
              "LogisticRegression(C=1.0, class_weight=None, dual=False, fit_intercept=True,\n",
              "                   intercept_scaling=1, l1_ratio=None, max_iter=100,\n",
              "                   multi_class='auto', n_jobs=None, penalty='l2',\n",
              "                   random_state=None, solver='lbfgs', tol=0.0001, verbose=0,\n",
              "                   warm_start=False)"
            ]
          },
          "metadata": {
            "tags": []
          },
          "execution_count": 87
        }
      ]
    },
    {
      "cell_type": "code",
      "metadata": {
        "execution": {
          "iopub.execute_input": "2021-02-02T08:12:39.838128Z",
          "iopub.status.busy": "2021-02-02T08:12:39.837417Z",
          "iopub.status.idle": "2021-02-02T08:12:39.839337Z",
          "shell.execute_reply": "2021-02-02T08:12:39.839950Z"
        },
        "papermill": {
          "duration": 0.068366,
          "end_time": "2021-02-02T08:12:39.840126",
          "exception": false,
          "start_time": "2021-02-02T08:12:39.771760",
          "status": "completed"
        },
        "tags": [],
        "id": "ZHvQmY1FG7O6"
      },
      "source": [
        "y_predict_test = l.predict(X_test)"
      ],
      "execution_count": 88,
      "outputs": []
    },
    {
      "cell_type": "code",
      "metadata": {
        "execution": {
          "iopub.execute_input": "2021-02-02T08:12:39.927314Z",
          "iopub.status.busy": "2021-02-02T08:12:39.926486Z",
          "iopub.status.idle": "2021-02-02T08:12:39.931167Z",
          "shell.execute_reply": "2021-02-02T08:12:39.930591Z"
        },
        "papermill": {
          "duration": 0.050971,
          "end_time": "2021-02-02T08:12:39.931312",
          "exception": false,
          "start_time": "2021-02-02T08:12:39.880341",
          "status": "completed"
        },
        "tags": [],
        "colab": {
          "base_uri": "https://localhost:8080/"
        },
        "id": "XK1kpI5oG7O6",
        "outputId": "2962b1d2-9505-4a01-b729-420e66b1f0ae"
      },
      "source": [
        "y_predict_test"
      ],
      "execution_count": 89,
      "outputs": [
        {
          "output_type": "execute_result",
          "data": {
            "text/plain": [
              "array([0, 1, 1, 1, 1, 1, 1, 1, 1, 1, 0, 1, 0, 0, 0, 1, 1, 0, 0, 1, 1, 0,\n",
              "       1, 0, 0, 1, 1, 0, 0, 1, 0, 1, 1, 0, 0, 1, 0, 0, 0, 0, 0, 0, 1, 1,\n",
              "       0, 1, 1, 0, 0, 1, 1, 0, 1, 0, 0, 1, 1, 0, 0])"
            ]
          },
          "metadata": {
            "tags": []
          },
          "execution_count": 89
        }
      ]
    },
    {
      "cell_type": "code",
      "metadata": {
        "execution": {
          "iopub.execute_input": "2021-02-02T08:12:39.995207Z",
          "iopub.status.busy": "2021-02-02T08:12:39.994761Z",
          "iopub.status.idle": "2021-02-02T08:12:39.998607Z",
          "shell.execute_reply": "2021-02-02T08:12:39.999081Z"
        },
        "papermill": {
          "duration": 0.036504,
          "end_time": "2021-02-02T08:12:39.999203",
          "exception": false,
          "start_time": "2021-02-02T08:12:39.962699",
          "status": "completed"
        },
        "tags": [],
        "colab": {
          "base_uri": "https://localhost:8080/"
        },
        "id": "7qZjaw8zG7O6",
        "outputId": "63b6a938-f300-4747-f50d-98ce600235b3"
      },
      "source": [
        "y_test"
      ],
      "execution_count": 90,
      "outputs": [
        {
          "output_type": "execute_result",
          "data": {
            "text/plain": [
              "array([0, 1, 0, 1, 1, 1, 1, 1, 1, 1, 0, 0, 0, 0, 0, 1, 1, 0, 0, 1, 0, 0,\n",
              "       0, 0, 1, 0, 0, 0, 1, 1, 0, 1, 0, 0, 0, 1, 0, 0, 0, 0, 0, 0, 1, 1,\n",
              "       0, 0, 1, 0, 0, 0, 0, 0, 1, 0, 0, 1, 1, 0, 0])"
            ]
          },
          "metadata": {
            "tags": []
          },
          "execution_count": 90
        }
      ]
    },
    {
      "cell_type": "code",
      "metadata": {
        "execution": {
          "iopub.execute_input": "2021-02-02T08:12:40.060361Z",
          "iopub.status.busy": "2021-02-02T08:12:40.059896Z",
          "iopub.status.idle": "2021-02-02T08:12:40.063065Z",
          "shell.execute_reply": "2021-02-02T08:12:40.063625Z"
        },
        "papermill": {
          "duration": 0.036368,
          "end_time": "2021-02-02T08:12:40.063810",
          "exception": false,
          "start_time": "2021-02-02T08:12:40.027442",
          "status": "completed"
        },
        "tags": [],
        "id": "O0ArqQM1G7O6"
      },
      "source": [
        "from sklearn.metrics import confusion_matrix ,classification_report"
      ],
      "execution_count": 91,
      "outputs": []
    },
    {
      "cell_type": "code",
      "metadata": {
        "execution": {
          "iopub.execute_input": "2021-02-02T08:12:40.149360Z",
          "iopub.status.busy": "2021-02-02T08:12:40.148700Z",
          "iopub.status.idle": "2021-02-02T08:12:40.338062Z",
          "shell.execute_reply": "2021-02-02T08:12:40.337245Z"
        },
        "papermill": {
          "duration": 0.233659,
          "end_time": "2021-02-02T08:12:40.338225",
          "exception": false,
          "start_time": "2021-02-02T08:12:40.104566",
          "status": "completed"
        },
        "tags": [],
        "colab": {
          "base_uri": "https://localhost:8080/",
          "height": 282
        },
        "id": "SemKOuzhG7O6",
        "outputId": "298cf822-5a78-41ac-8cb6-119baab79f62"
      },
      "source": [
        "dff=confusion_matrix(y_test,y_predict_test)\n",
        "sns.heatmap(dff, annot = True)"
      ],
      "execution_count": 92,
      "outputs": [
        {
          "output_type": "execute_result",
          "data": {
            "text/plain": [
              "<matplotlib.axes._subplots.AxesSubplot at 0x7f23935c5610>"
            ]
          },
          "metadata": {
            "tags": []
          },
          "execution_count": 92
        },
        {
          "output_type": "display_data",
          "data": {
            "image/png": "[encoded data removed]",
            "text/plain": [
              "<Figure size 432x288 with 2 Axes>"
            ]
          },
          "metadata": {
            "tags": [],
            "needs_background": "light"
          }
        }
      ]
    },
    {
      "cell_type": "code",
      "metadata": {
        "execution": {
          "iopub.execute_input": "2021-02-02T08:12:40.428916Z",
          "iopub.status.busy": "2021-02-02T08:12:40.428051Z",
          "iopub.status.idle": "2021-02-02T08:12:40.439225Z",
          "shell.execute_reply": "2021-02-02T08:12:40.438602Z"
        },
        "papermill": {
          "duration": 0.058752,
          "end_time": "2021-02-02T08:12:40.439361",
          "exception": false,
          "start_time": "2021-02-02T08:12:40.380609",
          "status": "completed"
        },
        "tags": [],
        "colab": {
          "base_uri": "https://localhost:8080/",
          "height": 69
        },
        "id": "D2H7TbI2G7O6",
        "outputId": "801c974c-268c-471e-b258-0f03c03072c3"
      },
      "source": [
        "classification_report(y_test,y_predict_test)"
      ],
      "execution_count": 93,
      "outputs": [
        {
          "output_type": "execute_result",
          "data": {
            "application/vnd.google.colaboratory.intrinsic+json": {
              "type": "string"
            },
            "text/plain": [
              "'              precision    recall  f1-score   support\\n\\n           0       0.93      0.73      0.82        37\\n           1       0.67      0.91      0.77        22\\n\\n    accuracy                           0.80        59\\n   macro avg       0.80      0.82      0.79        59\\nweighted avg       0.83      0.80      0.80        59\\n'"
            ]
          },
          "metadata": {
            "tags": []
          },
          "execution_count": 93
        }
      ]
    },
    {
      "cell_type": "code",
      "metadata": {
        "papermill": {
          "duration": 0.042143,
          "end_time": "2021-02-02T08:12:40.525316",
          "exception": false,
          "start_time": "2021-02-02T08:12:40.483173",
          "status": "completed"
        },
        "tags": [],
        "id": "Z3AUcJdJG7O7"
      },
      "source": [
        ""
      ],
      "execution_count": 93,
      "outputs": []
    }
  ]
}